{
 "cells": [
  {
   "cell_type": "markdown",
   "metadata": {
    "collapsed": true
   },
   "source": [
    "# Questão 3"
   ]
  },
  {
   "cell_type": "markdown",
   "metadata": {},
   "source": [
    "<img src=\"q3f_color.png\" width=\"500\"/>"
   ]
  },
  {
   "cell_type": "code",
   "execution_count": 1,
   "metadata": {},
   "outputs": [],
   "source": [
    "%matplotlib inline\n",
    "import matplotlib.pyplot as plt\n",
    "import matplotlib.image as mpimg\n",
    "import random\n",
    "import numpy as np\n",
    "import pandas as pd\n",
    "import math\n",
    "\n",
    "from sklearn.model_selection import train_test_split\n",
    "from sklearn.neural_network import MLPClassifier\n",
    "from sklearn.svm import SVC\n",
    "from sklearn.metrics import confusion_matrix, classification_report\n",
    "\n",
    "import seaborn as sns; sns.set()\n",
    "\n",
    "from decimal import Decimal\n",
    "from fractions import Fraction"
   ]
  },
  {
   "cell_type": "code",
   "execution_count": 2,
   "metadata": {
    "collapsed": true
   },
   "outputs": [],
   "source": [
    "# as classe podem ser 0 ou 1\n",
    "xt = []\n",
    "yt = []"
   ]
  },
  {
   "cell_type": "code",
   "execution_count": 3,
   "metadata": {
    "collapsed": true
   },
   "outputs": [],
   "source": [
    "for i in range(1000):\n",
    "    r1 = round(random.uniform(-1.0, 1.0),4)     #x\n",
    "    r2 = round(random.uniform(-1.0, 1.0),4)     #y\n",
    "    \n",
    "    if (math.sqrt(math.pow(r1-(-1),2) + math.pow(r2-0,2)) < 1) and (math.sqrt(math.pow(r1-(0),2) + math.pow(r2-1,2)) < 1):\n",
    "        xt.append([r1, r2])\n",
    "        yt.append(1)\n",
    "        \n",
    "    elif (math.sqrt(math.pow(r1-(1),2) + math.pow(r2-0,2)) < 1) and (math.sqrt(math.pow(r1-(0),2) + math.pow(r2-1,2)) < 1):\n",
    "        xt.append([r1, r2])\n",
    "        yt.append(1)\n",
    "        \n",
    "    elif (math.sqrt(math.pow(r1-(1),2) + math.pow(r2-0,2)) < 1) and (math.sqrt(math.pow(r1-(0),2) + math.pow(r2-(-1),2)) < 1):\n",
    "        xt.append([r1, r2])\n",
    "        yt.append(1)\n",
    "        \n",
    "    elif (math.sqrt(math.pow(r1-(-1),2) + math.pow(r2-0,2)) < 1) and (math.sqrt(math.pow(r1-(0),2) + math.pow(r2-(-1),2)) < 1):\n",
    "        xt.append([r1, r2])\n",
    "        yt.append(1)\n",
    "    else:\n",
    "        xt.append([r1, r2])\n",
    "        yt.append(0)"
   ]
  },
  {
   "cell_type": "code",
   "execution_count": 4,
   "metadata": {
    "collapsed": true
   },
   "outputs": [],
   "source": [
    "f = open('entrada.txt','w')\n",
    "    \n",
    "for item in xt:\n",
    "    h = str(item[0])+\" \"+str(item[1])+\"\\n\"    \n",
    "    f.write(str(h))  \n",
    "    \n",
    "f.close()"
   ]
  },
  {
   "cell_type": "code",
   "execution_count": 5,
   "metadata": {
    "collapsed": true
   },
   "outputs": [],
   "source": [
    "f = open('saida.txt','w')\n",
    "    \n",
    "for item in yt:\n",
    "    h = str(item)+\"\\n\"    \n",
    "    f.write(str(h))  \n",
    "    \n",
    "f.close()"
   ]
  },
  {
   "cell_type": "code",
   "execution_count": 6,
   "metadata": {
    "collapsed": true
   },
   "outputs": [],
   "source": [
    "vx=[]\n",
    "vy=[]\n",
    "\n",
    "for item in xt:\n",
    "    vx.append(item[0])\n",
    "    vy.append(item[1])"
   ]
  },
  {
   "cell_type": "code",
   "execution_count": 7,
   "metadata": {},
   "outputs": [
    {
     "name": "stderr",
     "output_type": "stream",
     "text": [
      "/home/daniel/anaconda3/lib/python3.6/site-packages/sklearn/neural_network/multilayer_perceptron.py:912: DataConversionWarning: A column-vector y was passed when a 1d array was expected. Please change the shape of y to (n_samples, ), for example using ravel().\n",
      "  y = column_or_1d(y, warn=True)\n",
      "/home/daniel/anaconda3/lib/python3.6/site-packages/sklearn/neural_network/multilayer_perceptron.py:564: ConvergenceWarning: Stochastic Optimizer: Maximum iterations (200) reached and the optimization hasn't converged yet.\n",
      "  % self.max_iter, ConvergenceWarning)\n"
     ]
    }
   ],
   "source": [
    "#Gerar Dataframe\n",
    "df_data = pd.DataFrame(data={'x': vx, 'y': vy})\n",
    "df_target=pd.DataFrame(data={'target': yt})\n",
    "\n",
    "#Separando os dados \n",
    "X_train, X_test, y_train, y_test = train_test_split(df_data, df_target, test_size = 0.3, random_state = 35)\n",
    "\n",
    "#Treinamento\n",
    "mlpc = MLPClassifier()\n",
    "mlpc.fit(X_train,y_train)\n",
    "y_pred= mlpc.predict(X_test)\n",
    "\n",
    "# Matriz de confusão\n",
    "mat = confusion_matrix(y_test, y_pred)"
   ]
  },
  {
   "cell_type": "code",
   "execution_count": 8,
   "metadata": {},
   "outputs": [
    {
     "data": {
      "image/png": "[encoded data removed]",
      "text/plain": [
       "<matplotlib.figure.Figure at 0x7f58b3744b00>"
      ]
     },
     "metadata": {},
     "output_type": "display_data"
    }
   ],
   "source": [
    "#Apresentação dos resultados\n",
    "sns.heatmap(mat.T, square=True, annot=True, fmt='d', cbar=False,\n",
    "xticklabels=['classe 0','classe 1'], yticklabels=['classe 0','classe 1'])\n",
    "plt.xlabel('true label')\n",
    "plt.ylabel('predicted label');\n",
    "plt.show()"
   ]
  },
  {
   "cell_type": "markdown",
   "metadata": {
    "collapsed": true
   },
   "source": [
    "SVM"
   ]
  },
  {
   "cell_type": "code",
   "execution_count": 9,
   "metadata": {},
   "outputs": [
    {
     "name": "stderr",
     "output_type": "stream",
     "text": [
      "/home/daniel/anaconda3/lib/python3.6/site-packages/sklearn/utils/validation.py:547: DataConversionWarning: A column-vector y was passed when a 1d array was expected. Please change the shape of y to (n_samples, ), for example using ravel().\n",
      "  y = column_or_1d(y, warn=True)\n"
     ]
    }
   ],
   "source": [
    "# Treinamento da SVM\n",
    "clf = SVC(C=100.0)\n",
    "clf.fit(df_data,df_target)\n",
    "y_pred= clf.predict(X_test)\n",
    "\n",
    "# Matriz de confusão\n",
    "mat = confusion_matrix(y_test, y_pred)"
   ]
  },
  {
   "cell_type": "code",
   "execution_count": 10,
   "metadata": {},
   "outputs": [
    {
     "data": {
      "image/png": "[encoded data removed]",
      "text/plain": [
       "<matplotlib.figure.Figure at 0x7f58788a5898>"
      ]
     },
     "metadata": {},
     "output_type": "display_data"
    }
   ],
   "source": [
    "#Apresentação dos resultados\n",
    "sns.heatmap(mat.T, square=True, annot=True, fmt='d', cbar=False,\n",
    "xticklabels=['classe 0','classe 1'], yticklabels=['classe 0','classe 1'])\n",
    "plt.xlabel('true label')\n",
    "plt.ylabel('predicted label');\n",
    "plt.show()"
   ]
  }
 ],
 "metadata": {
  "kernelspec": {
   "display_name": "Python 3",
   "language": "python",
   "name": "python3"
  },
  "language_info": {
   "codemirror_mode": {
    "name": "ipython",
    "version": 3
   },
   "file_extension": ".py",
   "mimetype": "text/x-python",
   "name": "python",
   "nbconvert_exporter": "python",
   "pygments_lexer": "ipython3",
   "version": "3.6.2"
  }
 },
 "nbformat": 4,
 "nbformat_minor": 2
}
