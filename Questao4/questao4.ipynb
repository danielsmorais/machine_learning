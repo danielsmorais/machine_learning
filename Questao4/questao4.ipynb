{
 "cells": [
  {
   "cell_type": "markdown",
   "metadata": {
    "collapsed": true
   },
   "source": [
    "# Questão 4"
   ]
  },
  {
   "cell_type": "code",
   "execution_count": 17,
   "metadata": {
    "collapsed": true
   },
   "outputs": [],
   "source": [
    "%matplotlib inline\n",
    "import matplotlib.pyplot as plt\n",
    "import matplotlib.image as mpimg\n",
    "import numpy as np\n",
    "import pandas as pd\n",
    "\n",
    "from sklearn.neural_network import MLPClassifier\n",
    "from sklearn.model_selection import train_test_split\n",
    "from sklearn.metrics import classification_report, confusion_matrix\n",
    "\n",
    "import seaborn as sns; sns.set()\n"
   ]
  },
  {
   "cell_type": "markdown",
   "metadata": {},
   "source": [
    "Tipo de entrada"
   ]
  },
  {
   "cell_type": "code",
   "execution_count": 18,
   "metadata": {},
   "outputs": [
    {
     "data": {
      "text/plain": [
       "<matplotlib.text.Text at 0x7f3f00e96da0>"
      ]
     },
     "execution_count": 18,
     "metadata": {},
     "output_type": "execute_result"
    },
    {
     "data": {
      "image/png": "[encoded data removed]",
      "text/plain": [
       "<matplotlib.figure.Figure at 0x7f3f00ece518>"
      ]
     },
     "metadata": {},
     "output_type": "display_data"
    }
   ],
   "source": [
    "img=mpimg.imread('imagens/30x30/E_0.png')\n",
    "plt.figure()\n",
    "imgplot = plt.imshow(img)\n",
    "plt.title('Imagem 10º')"
   ]
  },
  {
   "cell_type": "code",
   "execution_count": 3,
   "metadata": {},
   "outputs": [
    {
     "data": {
      "text/plain": [
       "<matplotlib.text.Text at 0x7f3f01ec0e10>"
      ]
     },
     "execution_count": 3,
     "metadata": {},
     "output_type": "execute_result"
    },
    {
     "data": {
      "image/png": "[encoded data removed]",
      "text/plain": [
       "<matplotlib.figure.Figure at 0x7f3f01f44320>"
      ]
     },
     "metadata": {},
     "output_type": "display_data"
    }
   ],
   "source": [
    "img=mpimg.imread('imagens/30x30/E_10.png')\n",
    "plt.figure()\n",
    "imgplot = plt.imshow(img)\n",
    "plt.title('Imagem 10º')"
   ]
  },
  {
   "cell_type": "markdown",
   "metadata": {},
   "source": [
    "Organização dos dados"
   ]
  },
  {
   "cell_type": "code",
   "execution_count": 4,
   "metadata": {
    "collapsed": true
   },
   "outputs": [],
   "source": [
    "vogal = ['A', 'E', 'I', 'O', 'U']   # vogais\n",
    "grauT  = ['-10', '0', '10']         # para treinamento\n",
    "grauV  = ['-5', '5']                # para validação\n",
    "saida = [[1,0,0],[0,1,0],[0,0,1],[0,0,0],[1,1,1]]"
   ]
  },
  {
   "cell_type": "code",
   "execution_count": 5,
   "metadata": {
    "collapsed": true
   },
   "outputs": [],
   "source": [
    "entradaTreino  = []                 # Vetor de vetores de imagens de treinamento\n",
    "entradaVal=[]                       # Vetor de vetores de imagens de validacao\n",
    "saidaTreino = []                    # Saída de treinamento\n",
    "saidaVal = []                       # Saída de validacao"
   ]
  },
  {
   "cell_type": "code",
   "execution_count": 6,
   "metadata": {
    "collapsed": true
   },
   "outputs": [],
   "source": [
    "for i in vogal:\n",
    "    for j in grauT:\n",
    "        img=mpimg.imread('imagens/30x30/'+i+'_'+j+'.png')\n",
    "        aux = []\n",
    "        for k in range(30):\n",
    "            for l in range(30):\n",
    "                aux.append(img[k][l][0])        \n",
    "        entradaTreino.append(aux)            # Transformar uma matriz em vetor"
   ]
  },
  {
   "cell_type": "code",
   "execution_count": 7,
   "metadata": {
    "collapsed": true
   },
   "outputs": [],
   "source": [
    "for i in vogal:\n",
    "    for j in grauV:\n",
    "        img=mpimg.imread('imagens/30x30/'+i+'_'+j+'.png')\n",
    "        aux = []\n",
    "        for k in range(30):\n",
    "            for l in range(30):\n",
    "                aux.append(img[k][l][0])                \n",
    "        entradaVal.append(aux)            # Transformar uma matriz em vetor"
   ]
  },
  {
   "cell_type": "code",
   "execution_count": 8,
   "metadata": {
    "collapsed": true
   },
   "outputs": [],
   "source": [
    "for i in saida:\n",
    "    for j in range(0,3):\n",
    "        saidaTreino.append(i)        "
   ]
  },
  {
   "cell_type": "code",
   "execution_count": 9,
   "metadata": {
    "collapsed": true
   },
   "outputs": [],
   "source": [
    "for i in saida:\n",
    "    for j in range(0,2):\n",
    "        saidaVal.append(i)"
   ]
  },
  {
   "cell_type": "markdown",
   "metadata": {},
   "source": [
    "Treinamento e validação da MLP"
   ]
  },
  {
   "cell_type": "code",
   "execution_count": 10,
   "metadata": {},
   "outputs": [
    {
     "name": "stdout",
     "output_type": "stream",
     "text": [
      "[[1 0 0]\n",
      " [1 0 0]\n",
      " [0 1 0]\n",
      " [0 1 0]\n",
      " [0 0 1]\n",
      " [0 0 1]\n",
      " [0 0 0]\n",
      " [0 0 0]\n",
      " [1 1 1]\n",
      " [1 1 1]]\n"
     ]
    },
    {
     "name": "stderr",
     "output_type": "stream",
     "text": [
      "/home/daniel/anaconda3/lib/python3.6/site-packages/sklearn/neural_network/multilayer_perceptron.py:564: ConvergenceWarning: Stochastic Optimizer: Maximum iterations (100) reached and the optimization hasn't converged yet.\n",
      "  % self.max_iter, ConvergenceWarning)\n"
     ]
    }
   ],
   "source": [
    "#Treinamento da MLP\n",
    "clf = MLPClassifier(solver='sgd', alpha=10e-5,hidden_layer_sizes=(15),activation='tanh', max_iter=100)\n",
    "clf.fit(entradaTreino, saidaTreino)\n",
    "\n",
    "#Validação\n",
    "y_pred = clf.predict(entradaVal)\n",
    "print(y_pred)"
   ]
  },
  {
   "cell_type": "code",
   "execution_count": 11,
   "metadata": {},
   "outputs": [
    {
     "name": "stdout",
     "output_type": "stream",
     "text": [
      "[0, 0, 1, 1, 2, 2, 3, 3, 4, 4]\n",
      "[0, 0, 1, 1, 2, 2, 3, 3, 4, 4]\n"
     ]
    }
   ],
   "source": [
    "# Conversão de representação\n",
    "auxy = []\n",
    "auxx = []\n",
    "\n",
    "for item in y_pred:\n",
    "    if  (str(item) == '[1 0 0]'):\n",
    "        auxy.append(0)\n",
    "    elif(str(item) == '[0 1 0]'):\n",
    "        auxy.append(1)\n",
    "    elif(str(item) == '[0 0 1]'):\n",
    "        auxy.append(2)        \n",
    "    elif(str(item) == '[0 0 0]'):\n",
    "        auxy.append(3)\n",
    "    elif(str(item) == '[1 1 1]'):\n",
    "        auxy.append(4)\n",
    "        \n",
    "for item in np.array(saidaVal):\n",
    "    if  (str(item) == '[1 0 0]'):\n",
    "        auxx.append(0)\n",
    "    elif(str(item) == '[0 1 0]'):\n",
    "        auxx.append(1)\n",
    "    elif(str(item) == '[0 0 1]'):\n",
    "        auxx.append(2)        \n",
    "    elif(str(item) == '[0 0 0]'):\n",
    "        auxx.append(3)\n",
    "    elif(str(item) == '[1 1 1]'):\n",
    "        auxx.append(4)        \n",
    "        \n",
    "print(auxy)\n",
    "print(auxx)"
   ]
  },
  {
   "cell_type": "code",
   "execution_count": 20,
   "metadata": {},
   "outputs": [],
   "source": [
    "# Matriz de confusão\n",
    "mat = confusion_matrix(auxx, auxy)"
   ]
  },
  {
   "cell_type": "code",
   "execution_count": 22,
   "metadata": {},
   "outputs": [
    {
     "data": {
      "image/png": "[encoded data removed]",
      "text/plain": [
       "<matplotlib.figure.Figure at 0x7f3f00e56518>"
      ]
     },
     "metadata": {},
     "output_type": "display_data"
    }
   ],
   "source": [
    "#Apresentação dos resultados\n",
    "sns.heatmap(mat.T, square=True, annot=True, fmt='d', cbar=False,\n",
    "xticklabels=['A','E','I','O','U'], yticklabels=['A','E','I','O','U'])\n",
    "plt.xlabel('true label')\n",
    "plt.ylabel('predicted label');\n",
    "plt.show()"
   ]
  },
  {
   "cell_type": "code",
   "execution_count": null,
   "metadata": {
    "collapsed": true
   },
   "outputs": [],
   "source": []
  }
 ],
 "metadata": {
  "kernelspec": {
   "display_name": "Python 3",
   "language": "python",
   "name": "python3"
  },
  "language_info": {
   "codemirror_mode": {
    "name": "ipython",
    "version": 3
   },
   "file_extension": ".py",
   "mimetype": "text/x-python",
   "name": "python",
   "nbconvert_exporter": "python",
   "pygments_lexer": "ipython3",
   "version": "3.6.2"
  }
 },
 "nbformat": 4,
 "nbformat_minor": 2
}
