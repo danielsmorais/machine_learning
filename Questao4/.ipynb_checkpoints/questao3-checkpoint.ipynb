{
 "cells": [
  {
   "cell_type": "code",
   "execution_count": null,
   "metadata": {
    "collapsed": true
   },
   "outputs": [],
   "source": [
    "#QUESTÃO 3"
   ]
  },
  {
   "cell_type": "code",
   "execution_count": 1,
   "metadata": {
    "collapsed": true
   },
   "outputs": [],
   "source": [
    "%matplotlib inline\n",
    "import matplotlib.pyplot as plt\n",
    "import matplotlib.image as mpimg\n",
    "import random\n",
    "import numpy as np\n",
    "import math\n",
    "\n",
    "from decimal import Decimal\n",
    "from fractions import Fraction"
   ]
  },
  {
   "cell_type": "code",
   "execution_count": 2,
   "metadata": {
    "collapsed": true
   },
   "outputs": [],
   "source": [
    "# as classe podem ser 1, 2, 3 ou 4\n",
    "xt = []\n",
    "yt = []"
   ]
  },
  {
   "cell_type": "code",
   "execution_count": 3,
   "metadata": {
    "collapsed": true
   },
   "outputs": [],
   "source": [
    "\n",
    "xt.clear()\n",
    "yt.clear()\n",
    "\n",
    "\n",
    "for i in range(1000):\n",
    "    r1 = round(random.uniform(-1.0, 1.0),4)     #x\n",
    "    r2 = round(random.uniform(-1.0, 1.0),4)     #y\n",
    "    \n",
    "    if (math.sqrt(math.pow(r1-(-1),2) + math.pow(r2-0,2)) < 1) and (math.sqrt(math.pow(r1-(0),2) + math.pow(r2-1,2)) < 1):\n",
    "        xt.append([r1, r2])\n",
    "        yt.append(1)\n",
    "        \n",
    "    elif (math.sqrt(math.pow(r1-(1),2) + math.pow(r2-0,2)) < 1) and (math.sqrt(math.pow(r1-(0),2) + math.pow(r2-1,2)) < 1):\n",
    "        xt.append([r1, r2])\n",
    "        yt.append(1)\n",
    "        \n",
    "    elif (math.sqrt(math.pow(r1-(1),2) + math.pow(r2-0,2)) < 1) and (math.sqrt(math.pow(r1-(0),2) + math.pow(r2-(-1),2)) < 1):\n",
    "        xt.append([r1, r2])\n",
    "        yt.append(1)\n",
    "        \n",
    "    elif (math.sqrt(math.pow(r1-(-1),2) + math.pow(r2-0,2)) < 1) and (math.sqrt(math.pow(r1-(0),2) + math.pow(r2-(-1),2)) < 1):\n",
    "        xt.append([r1, r2])\n",
    "        yt.append(1)\n",
    "    else:\n",
    "        xt.append([r1, r2])\n",
    "        yt.append(0)\n"
   ]
  },
  {
   "cell_type": "code",
   "execution_count": 4,
   "metadata": {
    "collapsed": true
   },
   "outputs": [],
   "source": [
    "#print(xt)\n",
    "#print(yt)"
   ]
  },
  {
   "cell_type": "code",
   "execution_count": 5,
   "metadata": {
    "collapsed": true
   },
   "outputs": [],
   "source": [
    "f = open('entrada.txt','w')\n",
    "    \n",
    "for item in xt:\n",
    "    h = str(item[0])+\" \"+str(item[1])+\"\\n\"    \n",
    "    f.write(str(h))  \n",
    "    \n",
    "f.close()"
   ]
  },
  {
   "cell_type": "code",
   "execution_count": 6,
   "metadata": {
    "collapsed": true
   },
   "outputs": [],
   "source": [
    "f = open('saida.txt','w')\n",
    "    \n",
    "for item in yt:\n",
    "    h = str(item)+\"\\n\"    \n",
    "    f.write(str(h))  \n",
    "    \n",
    "f.close()"
   ]
  },
  {
   "cell_type": "code",
   "execution_count": 12,
   "metadata": {},
   "outputs": [],
   "source": [
    "vx=[]\n",
    "vy=[]\n",
    "for item in xt:\n",
    "    vx.append(item[0])\n",
    "    vy.append(item[1])\n",
    "    \n"
   ]
  },
  {
   "cell_type": "code",
   "execution_count": 13,
   "metadata": {},
   "outputs": [
    {
     "name": "stderr",
     "output_type": "stream",
     "text": [
      "/home/daniel/anaconda3/lib/python3.6/site-packages/sklearn/neural_network/multilayer_perceptron.py:912: DataConversionWarning: A column-vector y was passed when a 1d array was expected. Please change the shape of y to (n_samples, ), for example using ravel().\n",
      "  y = column_or_1d(y, warn=True)\n",
      "/home/daniel/anaconda3/lib/python3.6/site-packages/sklearn/neural_network/multilayer_perceptron.py:564: ConvergenceWarning: Stochastic Optimizer: Maximum iterations (200) reached and the optimization hasn't converged yet.\n",
      "  % self.max_iter, ConvergenceWarning)\n"
     ]
    }
   ],
   "source": [
    "from sklearn.model_selection import train_test_split\n",
    "import pandas as pd\n",
    "\n",
    "#Gerar Dataframe\n",
    "df_data = pd.DataFrame(data={'x': vx, 'y': vy})\n",
    "df_target=pd.DataFrame(data={'target': yt})\n",
    "#Separando os dados \n",
    "from sklearn.model_selection import train_test_split\n",
    "X_train, X_test, y_train, y_test = train_test_split(df_data, df_target, test_size = 0.3, random_state = 35)\n",
    "#Treinamento \n",
    "from sklearn.neural_network import MLPClassifier\n",
    "mlpc = MLPClassifier()\n",
    "mlpc.fit(X_train,y_train)\n",
    "y_pred= mlpc.predict(X_test)\n",
    "from sklearn.metrics import classification_report\n",
    "from sklearn.metrics import confusion_matrix\n",
    "mat = confusion_matrix(y_test, y_pred)"
   ]
  },
  {
   "cell_type": "code",
   "execution_count": 14,
   "metadata": {},
   "outputs": [
    {
     "data": {
      "image/png": "[encoded data removed]",
      "text/plain": [
       "<matplotlib.figure.Figure at 0x7f318406a400>"
      ]
     },
     "metadata": {},
     "output_type": "display_data"
    }
   ],
   "source": [
    "import numpy as np\n",
    "import matplotlib.pyplot as plt\n",
    "import seaborn as sns; sns.set()\n",
    "\n",
    "#Apresentação dos dados:\n",
    "sns.heatmap(mat.T, square=True, annot=True, fmt='d', cbar=False,\n",
    "xticklabels=['classe 0','classe 1'], yticklabels=['classe 0','classe 1'])\n",
    "plt.xlabel('true label')\n",
    "plt.ylabel('predicted label');\n",
    "plt.show()"
   ]
  },
  {
   "cell_type": "code",
   "execution_count": null,
   "metadata": {
    "collapsed": true
   },
   "outputs": [],
   "source": []
  },
  {
   "cell_type": "code",
   "execution_count": null,
   "metadata": {
    "collapsed": true
   },
   "outputs": [],
   "source": []
  },
  {
   "cell_type": "code",
   "execution_count": null,
   "metadata": {
    "collapsed": true
   },
   "outputs": [],
   "source": []
  },
  {
   "cell_type": "code",
   "execution_count": null,
   "metadata": {
    "collapsed": true
   },
   "outputs": [],
   "source": []
  },
  {
   "cell_type": "code",
   "execution_count": null,
   "metadata": {
    "collapsed": true
   },
   "outputs": [],
   "source": []
  },
  {
   "cell_type": "code",
   "execution_count": null,
   "metadata": {
    "collapsed": true
   },
   "outputs": [],
   "source": []
  },
  {
   "cell_type": "code",
   "execution_count": null,
   "metadata": {
    "collapsed": true
   },
   "outputs": [],
   "source": []
  },
  {
   "cell_type": "code",
   "execution_count": null,
   "metadata": {
    "collapsed": true
   },
   "outputs": [],
   "source": []
  },
  {
   "cell_type": "code",
   "execution_count": null,
   "metadata": {
    "collapsed": true
   },
   "outputs": [],
   "source": []
  },
  {
   "cell_type": "code",
   "execution_count": 15,
   "metadata": {
    "collapsed": true
   },
   "outputs": [],
   "source": [
    "#QUESTÃO 4"
   ]
  },
  {
   "cell_type": "code",
   "execution_count": null,
   "metadata": {
    "collapsed": true
   },
   "outputs": [],
   "source": []
  },
  {
   "cell_type": "code",
   "execution_count": null,
   "metadata": {
    "collapsed": true
   },
   "outputs": [],
   "source": []
  },
  {
   "cell_type": "code",
   "execution_count": null,
   "metadata": {
    "collapsed": true
   },
   "outputs": [],
   "source": []
  },
  {
   "cell_type": "code",
   "execution_count": null,
   "metadata": {
    "collapsed": true
   },
   "outputs": [],
   "source": []
  },
  {
   "cell_type": "code",
   "execution_count": null,
   "metadata": {
    "collapsed": true
   },
   "outputs": [],
   "source": []
  },
  {
   "cell_type": "code",
   "execution_count": null,
   "metadata": {
    "collapsed": true
   },
   "outputs": [],
   "source": []
  }
 ],
 "metadata": {
  "kernelspec": {
   "display_name": "Python 3",
   "language": "python",
   "name": "python3"
  },
  "language_info": {
   "codemirror_mode": {
    "name": "ipython",
    "version": 3
   },
   "file_extension": ".py",
   "mimetype": "text/x-python",
   "name": "python",
   "nbconvert_exporter": "python",
   "pygments_lexer": "ipython3",
   "version": "3.6.2"
  }
 },
 "nbformat": 4,
 "nbformat_minor": 2
}
